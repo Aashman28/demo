{
  "nbformat": 4,
  "nbformat_minor": 0,
  "metadata": {
    "colab": {
      "provenance": [],
      "include_colab_link": true
    },
    "kernelspec": {
      "name": "python3",
      "display_name": "Python 3"
    },
    "language_info": {
      "name": "python"
    }
  },
  "cells": [
    {
      "cell_type": "markdown",
      "metadata": {
        "id": "view-in-github",
        "colab_type": "text"
      },
      "source": [
        "<a href=\"https://colab.research.google.com/github/Aashman28/demo/blob/main/Copy_of_CV_Assignment_2.ipynb\" target=\"_parent\"><img src=\"https://colab.research.google.com/assets/colab-badge.svg\" alt=\"Open In Colab\"/></a>"
      ]
    },
    {
      "cell_type": "markdown",
      "source": [
        "<center>\n",
        "<h1><strong> Computer Vision assignment 2 </strong></h1>\n",
        "</center>"
      ],
      "metadata": {
        "id": "5gnVmnCuRVO6"
      }
    },
    {
      "cell_type": "markdown",
      "source": [
        "**This assignment will challenge your understanding of basic python programming paradigm and evaluate your intution of numpy **\n",
        "\n",
        "- Make sure all the implementations are general and should work for any test case that we use\n",
        "- Numpy link: https://www.youtube.com/watch?v=QUT1VHiLmmI&t=958s\n",
        "- the above link will provide a general introduction to numpy - if additional information is needed refer to the documentation\n",
        "\n"
      ],
      "metadata": {
        "id": "0zSwRgknRiQu"
      }
    },
    {
      "cell_type": "markdown",
      "source": [
        "## **Instructions :**"
      ],
      "metadata": {
        "id": "IRUoYr2u2Eeg"
      }
    },
    {
      "cell_type": "markdown",
      "source": [
        "\n",
        "- Make a copy of this Colab notebook (else any changes you make wont be saved)\n",
        "- Feel free to add more code blocks in between questions if you feel you need it\n"
      ],
      "metadata": {
        "id": "si5j_ygayB6p"
      }
    },
    {
      "cell_type": "markdown",
      "source": [
        "---\n",
        "## **Numpy**"
      ],
      "metadata": {
        "id": "aObvH5Q-2co2"
      }
    },
    {
      "cell_type": "code",
      "source": [
        "import numpy as np\n",
        "import string"
      ],
      "metadata": {
        "id": "ekt88Ug9o1DN"
      },
      "execution_count": null,
      "outputs": []
    },
    {
      "cell_type": "markdown",
      "source": [
        "\n",
        "#### `Q1) create a 1-D numpy array with elements from 0 to 10`"
      ],
      "metadata": {
        "id": "0Fka-WJeeAiW"
      }
    },
    {
      "cell_type": "code",
      "source": [
        "a = np.linspace(0,10,11)\n",
        "print(a)"
      ],
      "metadata": {
        "id": "aR13iSUpfGu_",
        "colab": {
          "base_uri": "https://localhost:8080/"
        },
        "outputId": "d3bbf919-0c76-49ba-a85e-75619cb73705"
      },
      "execution_count": null,
      "outputs": [
        {
          "output_type": "stream",
          "name": "stdout",
          "text": [
            "[ 0.  1.  2.  3.  4.  5.  6.  7.  8.  9. 10.]\n"
          ]
        }
      ]
    },
    {
      "cell_type": "markdown",
      "source": [
        "\n",
        "#### `Q2) Create a 2D numpy array of shape = (7,8)`"
      ],
      "metadata": {
        "id": "B5EghpLPfJw8"
      }
    },
    {
      "cell_type": "code",
      "source": [
        "a = np.zeros((7,8))\n",
        "print(a)"
      ],
      "metadata": {
        "id": "UFQ9zOPOfLNM",
        "colab": {
          "base_uri": "https://localhost:8080/"
        },
        "outputId": "5dac3647-9be7-4e39-8422-458f50072cdf"
      },
      "execution_count": null,
      "outputs": [
        {
          "output_type": "stream",
          "name": "stdout",
          "text": [
            "[[0. 0. 0. 0. 0. 0. 0. 0.]\n",
            " [0. 0. 0. 0. 0. 0. 0. 0.]\n",
            " [0. 0. 0. 0. 0. 0. 0. 0.]\n",
            " [0. 0. 0. 0. 0. 0. 0. 0.]\n",
            " [0. 0. 0. 0. 0. 0. 0. 0.]\n",
            " [0. 0. 0. 0. 0. 0. 0. 0.]\n",
            " [0. 0. 0. 0. 0. 0. 0. 0.]]\n"
          ]
        }
      ]
    },
    {
      "cell_type": "markdown",
      "source": [
        "#### `Q3) Create a 1-D numpy array of size 10 with random integer values ranging from 40 to 69. Once created print the sorted array.`"
      ],
      "metadata": {
        "id": "RuqhCa7ZfMGu"
      }
    },
    {
      "cell_type": "code",
      "source": [
        "array_1d = np.random.randint(40, 69, 10)\n",
        "sorted_array = np.sort(array_1d)\n",
        "print(sorted_array)\n",
        "\n",
        "\n"
      ],
      "metadata": {
        "id": "TDf64tzffINq",
        "colab": {
          "base_uri": "https://localhost:8080/"
        },
        "outputId": "cb604662-99c7-4258-bb54-897d2fb23ce8"
      },
      "execution_count": null,
      "outputs": [
        {
          "output_type": "stream",
          "name": "stdout",
          "text": [
            "[40 40 43 47 49 52 52 54 56 60]\n"
          ]
        }
      ]
    },
    {
      "cell_type": "markdown",
      "source": [
        "#### `Q4) Find indices of non-zero elements in [1,5,0,0,53,78,4,0,21,79,0,4,5,17]`"
      ],
      "metadata": {
        "id": "ODXvYSy7fM8D"
      }
    },
    {
      "cell_type": "code",
      "source": [
        "array = np.array([1,5,0,0,53,78,4,0,21,79,0,4,5,17])\n",
        "non_zero_indices= np.nonzero(array)\n",
        "print(non_zero_indices)"
      ],
      "metadata": {
        "id": "YYhCBaN7fIIo",
        "colab": {
          "base_uri": "https://localhost:8080/"
        },
        "outputId": "c115e72e-7136-433b-f474-6c8d89d6f981"
      },
      "execution_count": null,
      "outputs": [
        {
          "output_type": "stream",
          "name": "stdout",
          "text": [
            "(array([ 0,  1,  4,  5,  6,  8,  9, 11, 12, 13]),)\n"
          ]
        }
      ]
    },
    {
      "cell_type": "markdown",
      "source": [
        "\n",
        "#### `Q5) Create a random vector and replce the maximum element by 10`"
      ],
      "metadata": {
        "id": "KZLuX9VffNYT"
      }
    },
    {
      "cell_type": "code",
      "source": [
        "random_vector = np.random.rand(5)\n",
        "print(random_vector)\n",
        "highest_value=random_vector.max()\n",
        "# used max() instead of argmax() to cover the cases in which multiple occurences of highest value are there\n",
        "max_indices = np.where(random_vector==highest_value)[0]\n",
        "random_vector[max_indices]=10\n",
        "print(random_vector)\n"
      ],
      "metadata": {
        "id": "vaxjm68ifIA7"
      },
      "execution_count": null,
      "outputs": []
    },
    {
      "cell_type": "markdown",
      "source": [
        "**Q6) Create a 2d array with 1 on the border and 0 inside**\n"
      ],
      "metadata": {
        "id": "pWOADgKxC8RX"
      }
    },
    {
      "cell_type": "code",
      "source": [
        "my_array = np.zeros([10,10],int)\n",
        "my_array[0, :] = 1\n",
        "my_array[-1, :]=1\n",
        "my_array[:,0]=1\n",
        "my_array[:,-1]=1\n",
        "print(my_array)"
      ],
      "metadata": {
        "id": "QeST7iWVEaGA"
      },
      "execution_count": null,
      "outputs": []
    },
    {
      "cell_type": "markdown",
      "source": [
        " Q7) Create a 8x8 matrix and fill it with a checkerboard pattern\n"
      ],
      "metadata": {
        "id": "QyPVlSOoEr0g"
      }
    },
    {
      "cell_type": "code",
      "source": [
        "checkerboard = np.zeros((8, 8), dtype=int)\n",
        "\n",
        "for i in range(8):\n",
        "    for j in range(8):\n",
        "        if (i + j) % 2 == 1:\n",
        "            checkerboard[i, j] = 1\n",
        "\n",
        "print(checkerboard)"
      ],
      "metadata": {
        "id": "Sx-PO11_E9OD"
      },
      "execution_count": null,
      "outputs": []
    },
    {
      "cell_type": "markdown",
      "source": [
        "Q8) Get all the dates corresponding to the month of October 2023.(Dont just print them directly)"
      ],
      "metadata": {
        "id": "d_To2UgcHCnA"
      }
    },
    {
      "cell_type": "code",
      "source": [
        "import datetime\n",
        "start_date = datetime.date(2023, 10, 1)\n",
        "end_date = datetime.date(2023, 10, 31)\n",
        "delta = end_date - start_date\n",
        "dates_in_october = np.arange(start_date, end_date + datetime.timedelta(days=1), dtype='datetime64[D]')\n",
        "print(dates_in_october)\n"
      ],
      "metadata": {
        "id": "tPrJpF73HKIn"
      },
      "execution_count": null,
      "outputs": []
    },
    {
      "cell_type": "markdown",
      "source": [
        "Q9) Randomly place p elements in a 2D array. (take p=3 and 10x10 array)"
      ],
      "metadata": {
        "id": "UyVfHZiEHiyD"
      }
    },
    {
      "cell_type": "code",
      "source": [
        "my_array = np.zeros([10,10],int)\n",
        "for i in range(0,3):\n",
        "    row = np.random.randint(1,10)\n",
        "    column = np.random.randint(1,10)\n",
        "    my_array[row,column]=1\n",
        "print(my_array)"
      ],
      "metadata": {
        "id": "P4AHjPorJQmt"
      },
      "execution_count": null,
      "outputs": []
    },
    {
      "cell_type": "markdown",
      "source": [
        "Q10)Generate a random matrix. Subtract the mean of each row of a matrix from it."
      ],
      "metadata": {
        "id": "HYJX02lPJRKL"
      }
    },
    {
      "cell_type": "code",
      "source": [
        "random_matrix = np.random.rand(4,5)\n",
        "solution_matrix = random_matrix - random_matrix.mean(axis=1,keepdims=True)\n",
        "#(keepdims = true) keeps the dimensions of matrix same and ensures proper subtraction/broadcasting\n",
        "print(solution_matrix)\n"
      ],
      "metadata": {
        "id": "PV4ZrrvVJeeM"
      },
      "execution_count": null,
      "outputs": []
    },
    {
      "cell_type": "markdown",
      "source": [
        "Q11) Consider the vector [1, 2, 3, 4, 5], build a new vector with 3 consecutive zeros interleaved between each value?"
      ],
      "metadata": {
        "id": "1OpARdILJe8Q"
      }
    },
    {
      "cell_type": "code",
      "source": [
        "vector = np.array([1, 2, 3, 4, 5], int)\n",
        "new_vector_length = len(vector)+(len(vector)-1)*3\n",
        "new_vector = np.zeros(new_vector_length)\n",
        "new_vector[::4] = vector[::1]\n",
        "print(new_vector)"
      ],
      "metadata": {
        "id": "clH3Y-jkLfZM"
      },
      "execution_count": null,
      "outputs": []
    }
  ]
}