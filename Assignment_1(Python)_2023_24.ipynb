{
  "nbformat": 4,
  "nbformat_minor": 0,
  "metadata": {
    "colab": {
      "provenance": [],
      "include_colab_link": true
    },
    "kernelspec": {
      "name": "python3",
      "display_name": "Python 3"
    },
    "language_info": {
      "name": "python"
    }
  },
  "cells": [
    {
      "cell_type": "markdown",
      "metadata": {
        "id": "view-in-github",
        "colab_type": "text"
      },
      "source": [
        "<a href=\"https://colab.research.google.com/github/Aashman28/demo/blob/main/Assignment_1(Python)_2023_24.ipynb\" target=\"_parent\"><img src=\"https://colab.research.google.com/assets/colab-badge.svg\" alt=\"Open In Colab\"/></a>"
      ]
    },
    {
      "cell_type": "markdown",
      "source": [
        "<center>\n",
        "<h1><strong> Computer Vision Assignment-1 </strong></h1>\n",
        "</center>"
      ],
      "metadata": {
        "id": "5gnVmnCuRVO6"
      }
    },
    {
      "cell_type": "markdown",
      "source": [
        "**This assignment will challenge your understanding of basic python programming paradigm and evaluate your intution of problem solving**\n",
        "\n",
        "- Make sure all the implementations are general and should work for any test case that we use\n",
        "\n",
        "\n"
      ],
      "metadata": {
        "id": "0zSwRgknRiQu"
      }
    },
    {
      "cell_type": "markdown",
      "source": [
        "## **Instructions :**"
      ],
      "metadata": {
        "id": "IRUoYr2u2Eeg"
      }
    },
    {
      "cell_type": "markdown",
      "source": [
        "\n",
        "- Make a copy of this Colab notebook (else any changes you make wont be saved)\n",
        "- Feel free to add more code blocks in between questions if you feel you need it\n",
        "- Take user inputs wherever required\n",
        "- For each code comment some lines explaining what approach did you use to solve the question.\n",
        "\n"
      ],
      "metadata": {
        "id": "si5j_ygayB6p"
      }
    },
    {
      "cell_type": "markdown",
      "source": [
        "---\n",
        "## Part 1: Data types,Operators and Loops."
      ],
      "metadata": {
        "id": "Zi29DVxm2Wek"
      }
    },
    {
      "cell_type": "markdown",
      "source": [
        "\n",
        "#### `Q1) Write a Python Program to Calculate the Area of a Triangle(Use Heron's formula).Take sides as user input.`\n",
        "\n",
        "                                        \n"
      ],
      "metadata": {
        "id": "bPIBcR8bMFxS"
      }
    },
    {
      "cell_type": "code",
      "source": [
        "#write your code here\n",
        "#### `Q1) Write a Python Program to Calculate the Area of a Triangle(Use Heron's formula).Take sides as user input.`\n",
        "\n",
        "a1 = float(input(\"Enter the first side \"))\n",
        "a2 = float(input(\"Enter the second side \"))\n",
        "a3 = float(input(\"Enter the third side \"))\n",
        "s = (a1+a2+a3)*0.5\n",
        "area = (s*(s-a1)*(s-a2)*(s-a3))**0.5\n",
        "print(area)\n",
        "\n"
      ],
      "metadata": {
        "id": "WC4VmJm6MCyD"
      },
      "execution_count": null,
      "outputs": []
    },
    {
      "cell_type": "markdown",
      "source": [
        "\n",
        "#### `Q2) Write a Python Program to Find Factorial of a number.`\n",
        "\n",
        "                                        \n"
      ],
      "metadata": {
        "id": "sc7Gvu5iOqlJ"
      }
    },
    {
      "cell_type": "code",
      "source": [
        "#write your code here\n",
        "\n",
        "a = int(input(\"Enter a number \"))\n",
        "factorial = 1\n",
        "for i in range(1, a+1):\n",
        "    factorial*=i\n",
        "    i+=1\n",
        "print(factorial)\n"
      ],
      "metadata": {
        "id": "sjL0Kt6AOyzH",
        "outputId": "c8505b42-682e-41f5-8f33-b9a6d69cae2c",
        "colab": {
          "base_uri": "https://localhost:8080/"
        }
      },
      "execution_count": 1,
      "outputs": [
        {
          "output_type": "stream",
          "name": "stdout",
          "text": [
            "Enter a number 7\n",
            "5040\n"
          ]
        }
      ]
    },
    {
      "cell_type": "markdown",
      "source": [
        "#### `Q3) Write a Python Program to Check Leap Year.`"
      ],
      "metadata": {
        "id": "76QeMDWiP0nq"
      }
    },
    {
      "cell_type": "code",
      "source": [
        "#write your code here\n",
        "###3) Write a Python Program to Check Leap Year.\n",
        "year = int(input(\"Enter a year: \"))\n",
        "year_is_leap = True\n",
        "if year%4!=0:\n",
        "    year_is_leap = False\n",
        "if year%4==0:\n",
        "    if year%100==0 and year%400!=0:\n",
        "        year_is_leap=False\n",
        "\n",
        "print(year_is_leap)"
      ],
      "metadata": {
        "id": "2MQVcy0RSCza"
      },
      "execution_count": null,
      "outputs": []
    },
    {
      "cell_type": "markdown",
      "source": [
        "#### `Q4) Write a Python Program to Print the Fibonacci sequence upto nth term.`"
      ],
      "metadata": {
        "id": "lQ92x5V3PVj5"
      }
    },
    {
      "cell_type": "code",
      "source": [
        "#write your code here\n",
        "#4) Write a Python Program to Print the Fibonacci sequence upto nth term.\n",
        "#an = an-1 + an-2.........a,b,c,d\n",
        "n = int(input(\"Enter a number: \"))\n",
        "a = 0\n",
        "b = 1\n",
        "\n",
        "for i in range(0,n):\n",
        "    if i==0:\n",
        "        print(a)\n",
        "    if i==1:\n",
        "        print(b)\n",
        "    if i>1:\n",
        "        c = a + b\n",
        "        print(c)\n",
        "        a=b\n",
        "        b=c\n",
        "        i+=1\n",
        "\n"
      ],
      "metadata": {
        "id": "9c6yJjSwPVJL"
      },
      "execution_count": null,
      "outputs": []
    },
    {
      "cell_type": "markdown",
      "source": [
        "---\n",
        "## Part 2: Strings and Dictionaries"
      ],
      "metadata": {
        "id": "2Xum0skMMJB9"
      }
    },
    {
      "cell_type": "markdown",
      "source": [
        "\n",
        "\n",
        "#### `Q1) Check if a given string is a palindrome`"
      ],
      "metadata": {
        "id": "PEUy0L1abA7z"
      }
    },
    {
      "cell_type": "code",
      "source": [
        "#write your code here"
      ],
      "metadata": {
        "id": "d2TGFIWM7w8Y"
      },
      "execution_count": null,
      "outputs": []
    },
    {
      "cell_type": "markdown",
      "source": [
        "#### `Q2) Write a program to check if the two input strings are an anagram of eachother or not `"
      ],
      "metadata": {
        "id": "zbU37-UUbWsU"
      }
    },
    {
      "cell_type": "code",
      "source": [
        "#write your code here"
      ],
      "metadata": {
        "id": "XRXZVbNjbUZ5"
      },
      "execution_count": null,
      "outputs": []
    },
    {
      "cell_type": "markdown",
      "source": [
        "#### `Q3) print all the duplicate letters in the string \"Electronics and Robotics club\"`"
      ],
      "metadata": {
        "id": "wpUP6XANbXh4"
      }
    },
    {
      "cell_type": "code",
      "source": [
        "#write your code here"
      ],
      "metadata": {
        "id": "xsDdleNzbVI-"
      },
      "execution_count": null,
      "outputs": []
    },
    {
      "cell_type": "markdown",
      "source": [
        "#### `Q4) Given below is a list of dictionaries, create a new sorted list containing unique values from the dictionary elements.`\n",
        "\n",
        "> <em>dictionary_syntax = {key : value}</em>\n",
        "\n",
        "> <em>Essentially, create a unique list of all the values</em>"
      ],
      "metadata": {
        "id": "2yeBy0QCbbeE"
      }
    },
    {
      "cell_type": "code",
      "source": [
        "#Implement your solution on the given list of dictionaries, assume that this is a dummy test case - however your solution should work for all lists of dictionaries\n",
        "my_list=[\n",
        "     {\"first\":\"1\"},\n",
        "     {\"second\": \"3\"},\n",
        "     {\"third\": \"9\"},\n",
        "     {\"four\": \"5\"},\n",
        "     {\"five\":\"5\"},\n",
        "     {\"six\":\"9\"},\n",
        "     {\"seven\":\"6\"}\n",
        "    ]\n",
        "# write your code here\n",
        "#expected solution [1,3,5,6,9].\n"
      ],
      "metadata": {
        "id": "H-JbYS7GbaMW"
      },
      "execution_count": null,
      "outputs": []
    }
  ]
}